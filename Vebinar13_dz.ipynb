{
 "cells": [
  {
   "cell_type": "code",
   "execution_count": 1,
   "id": "e815d607-3518-4ecf-910b-474b37f182d7",
   "metadata": {},
   "outputs": [
    {
     "name": "stdout",
     "output_type": "stream",
     "text": [
      "Результат методом Рунге-Кутты 4 порядка: y(1) = 2.21\n",
      "Аналитическое решение: y(1) = 2\n",
      "Погрешность: 0.20999999999999996\n"
     ]
    }
   ],
   "source": [
    "def runge_kutta_4(f, x0, y0, x_end, h):\n",
    "    \"\"\"\n",
    "    Метод Рунге-Кутты 4 порядка для решения ОДУ y' = f(x, y)\n",
    "    :param f: Правая часть уравнения y' = f(x, y)\n",
    "    :param x0: Начальное значение x\n",
    "    :param y0: Начальное значение y\n",
    "    :param x_end: Конечная точка x, для которой нужно найти y\n",
    "    :param h: Шаг интегрирования\n",
    "    :return: Значение y в точке x_end\n",
    "    \"\"\"\n",
    "    x = x0\n",
    "    y = y0\n",
    "\n",
    "    while x < x_end:\n",
    "        k1 = h * f(x, y)\n",
    "        k2 = h * f(x + h / 2, y + k1 / 2)\n",
    "        k3 = h * f(x + h / 2, y + k2 / 2)\n",
    "        k4 = h * f(x + h, y + k3)\n",
    "\n",
    "        y += (k1 + 2 * k2 + 2 * k3 + k4) / 6\n",
    "        x += h\n",
    "\n",
    "    return y\n",
    "\n",
    "\n",
    "def main():\n",
    "    # Правая часть уравнения y' = 2x\n",
    "    def f(x, y):\n",
    "        return 2 * x\n",
    "\n",
    "    # Начальные условия\n",
    "    x0 = 0\n",
    "    y0 = 1\n",
    "    x_end = 1  # Точка, в которой нужно найти y\n",
    "    h = 0.1    # Шаг интегрирования\n",
    "\n",
    "    # Решение методом Рунге-Кутты\n",
    "    rk4_result = runge_kutta_4(f, x0, y0, x_end, h)\n",
    "    print(f\"Результат методом Рунге-Кутты 4 порядка: y({x_end}) = {rk4_result}\")\n",
    "\n",
    "    # Аналитическое решение\n",
    "    analytical_result = x_end**2 + 1\n",
    "    print(f\"Аналитическое решение: y({x_end}) = {analytical_result}\")\n",
    "\n",
    "    # Сравнение результатов\n",
    "    error = abs(rk4_result - analytical_result)\n",
    "    print(f\"Погрешность: {error}\")\n",
    "\n",
    "\n",
    "if __name__ == \"__main__\":\n",
    "    main()\n"
   ]
  },
  {
   "cell_type": "code",
   "execution_count": null,
   "id": "d23b17ba-3b69-4b17-bffc-3d31e050ea38",
   "metadata": {},
   "outputs": [],
   "source": []
  }
 ],
 "metadata": {
  "kernelspec": {
   "display_name": "Python 3 (ipykernel)",
   "language": "python",
   "name": "python3"
  },
  "language_info": {
   "codemirror_mode": {
    "name": "ipython",
    "version": 3
   },
   "file_extension": ".py",
   "mimetype": "text/x-python",
   "name": "python",
   "nbconvert_exporter": "python",
   "pygments_lexer": "ipython3",
   "version": "3.12.4"
  }
 },
 "nbformat": 4,
 "nbformat_minor": 5
}
