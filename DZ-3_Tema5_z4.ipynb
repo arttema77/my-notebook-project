{
 "cells": [
  {
   "cell_type": "code",
   "execution_count": 1,
   "id": "85943a5c-b462-4aa1-a6bc-59cfab13fd59",
   "metadata": {},
   "outputs": [
    {
     "name": "stdout",
     "output_type": "stream",
     "text": [
      "Факториал числа 1 равен 1\n",
      "Факториал числа 2 равен 2\n",
      "Факториал числа 3 равен 6\n",
      "Факториал числа 4 равен 24\n",
      "Факториал числа 5 равен 120\n",
      "Факториал числа 6 равен 720\n",
      "Факториал числа 7 равен 5040\n",
      "Факториал числа 8 равен 40320\n",
      "Факториал числа 9 равен 362880\n",
      "Факториал числа 10 равен 3628800\n"
     ]
    }
   ],
   "source": [
    "#Задание 4\n",
    "import threading\n",
    "import math\n",
    "\n",
    "def compute_factorial(n, results, index):\n",
    "    result = math.factorial(n)\n",
    "    results[index] = f\"Факториал числа {n} равен {result}\"\n",
    "\n",
    "numbers = range(1, 11)\n",
    "threads = []\n",
    "results = [None] * len(numbers)\n",
    "\n",
    "for idx, number in enumerate(numbers):\n",
    "    thread = threading.Thread(target=compute_factorial, args=(number, results, idx))\n",
    "    threads.append(thread)\n",
    "    thread.start()\n",
    "\n",
    "for thread in threads:\n",
    "    thread.join()\n",
    "\n",
    "# Выводим результаты в основном потоке\n",
    "for result in results:\n",
    "    print(result)\n"
   ]
  },
  {
   "cell_type": "code",
   "execution_count": null,
   "id": "50bcdb94-c22c-4089-85f8-51ff9dadc5de",
   "metadata": {},
   "outputs": [],
   "source": []
  }
 ],
 "metadata": {
  "kernelspec": {
   "display_name": "Python 3 (ipykernel)",
   "language": "python",
   "name": "python3"
  },
  "language_info": {
   "codemirror_mode": {
    "name": "ipython",
    "version": 3
   },
   "file_extension": ".py",
   "mimetype": "text/x-python",
   "name": "python",
   "nbconvert_exporter": "python",
   "pygments_lexer": "ipython3",
   "version": "3.12.4"
  }
 },
 "nbformat": 4,
 "nbformat_minor": 5
}
