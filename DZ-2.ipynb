{
 "cells": [
  {
   "cell_type": "code",
   "execution_count": 4,
   "id": "b1119baa-fcc8-473f-9502-9003db28011f",
   "metadata": {},
   "outputs": [],
   "source": [
    "#Задание 1\n",
    "def copy_file(source, destination):\n",
    "    with open(source, 'r', encoding='utf-8') as src:\n",
    "        content = src.read()\n",
    "    \n",
    "    with open(destination, 'w', encoding='utf-8') as dest:\n",
    "        dest.write(content)\n",
    "\n",
    "# Пример использования\n",
    "copy_file('source.txt', 'destination.txt')"
   ]
  },
  {
   "cell_type": "code",
   "execution_count": 6,
   "id": "d5ce4016-d223-4257-8288-97f00b7de4d3",
   "metadata": {},
   "outputs": [
    {
     "name": "stdout",
     "output_type": "stream",
     "text": [
      "Общая стоимость заказа: 801.0 руб.\n"
     ]
    }
   ],
   "source": [
    "#Задание 2\n",
    "def calculate_order_cost(file_name):\n",
    "    total_cost = 0\n",
    "    \n",
    "    with open(file_name, 'r', encoding='utf-8') as file:\n",
    "        for line in file:\n",
    "            name, quantity, price = line.strip().split(',')\n",
    "            quantity = int(quantity)\n",
    "            price = float(price)\n",
    "            total_cost += quantity * price\n",
    "    \n",
    "    return total_cost\n",
    "\n",
    "# Пример использования:\n",
    "total = calculate_order_cost('prices.txt')\n",
    "print(f\"Общая стоимость заказа: {total} руб.\")"
   ]
  },
  {
   "cell_type": "code",
   "execution_count": 8,
   "id": "43263183-4ebc-47cb-8d33-7c85e76fcbe5",
   "metadata": {},
   "outputs": [
    {
     "name": "stdout",
     "output_type": "stream",
     "text": [
      "Количество слов в файле: 23693\n"
     ]
    }
   ],
   "source": [
    "#Задание 3\n",
    "def count_words_in_file(file_name):\n",
    "    with open(file_name, 'r', encoding='utf-8') as file:\n",
    "        content = file.read()\n",
    "        words = content.split()\n",
    "        word_count = len(words)\n",
    "    \n",
    "    return word_count\n",
    "\n",
    "# Пример использования:\n",
    "word_count = count_words_in_file('text_file.txt')\n",
    "print(f\"Количество слов в файле: {word_count}\")"
   ]
  },
  {
   "cell_type": "code",
   "execution_count": 12,
   "id": "3720a285-6689-4283-b344-04da4dbd1c01",
   "metadata": {},
   "outputs": [],
   "source": [
    "#Задание 4\n",
    "def copy_unique_lines(input_file, output_file):\n",
    "    unique_lines = set()\n",
    "    \n",
    "    with open(input_file, 'r', encoding='utf-8') as infile:\n",
    "        for line in infile:\n",
    "            unique_lines.add(line.strip())\n",
    "    \n",
    "    with open(output_file, 'w', encoding='utf-8') as outfile:\n",
    "        for line in unique_lines:\n",
    "            outfile.write(line + '\\n')\n",
    "\n",
    "# Пример использования:\n",
    "copy_unique_lines('input.txt', 'unique_output.txt')\n"
   ]
  },
  {
   "cell_type": "code",
   "execution_count": null,
   "id": "2f15fd44-e605-4cbf-b82e-7d4b61853c9e",
   "metadata": {},
   "outputs": [],
   "source": []
  }
 ],
 "metadata": {
  "kernelspec": {
   "display_name": "Python 3 (ipykernel)",
   "language": "python",
   "name": "python3"
  },
  "language_info": {
   "codemirror_mode": {
    "name": "ipython",
    "version": 3
   },
   "file_extension": ".py",
   "mimetype": "text/x-python",
   "name": "python",
   "nbconvert_exporter": "python",
   "pygments_lexer": "ipython3",
   "version": "3.12.4"
  }
 },
 "nbformat": 4,
 "nbformat_minor": 5
}
