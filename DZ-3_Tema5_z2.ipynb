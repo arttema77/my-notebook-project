{
 "cells": [
  {
   "cell_type": "code",
   "execution_count": 1,
   "id": "6987252a-e30d-4b66-acf3-afdf4fef1543",
   "metadata": {},
   "outputs": [
    {
     "name": "stdout",
     "output_type": "stream",
     "text": [
      "Поток Поток-1: число 1\n",
      "Поток Поток-2: число 1\n",
      "Поток Поток-3: число 1\n",
      "Поток Поток-1: число 2\n",
      "Поток Поток-2: число 2\n",
      "Поток Поток-3: число 2\n",
      "Поток Поток-1: число 3\n",
      "Поток Поток-2: число 3\n",
      "Поток Поток-3: число 3\n",
      "Поток Поток-1: число 4\n",
      "Поток Поток-2: число 4\n",
      "Поток Поток-3: число 4\n",
      "Поток Поток-1: число 5\n",
      "Поток Поток-2: число 5\n",
      "Поток Поток-3: число 5\n",
      "Поток Поток-1: число 6\n",
      "Поток Поток-3: число 6\n",
      "Поток Поток-2: число 6\n",
      "Поток Поток-1: число 7\n",
      "Поток Поток-2: число 7\n",
      "Поток Поток-3: число 7\n",
      "Поток Поток-1: число 8\n",
      "Поток Поток-3: число 8\n",
      "Поток Поток-2: число 8\n",
      "Поток Поток-1: число 9\n",
      "Поток Поток-2: число 9\n",
      "Поток Поток-3: число 9\n",
      "Поток Поток-1: число 10\n",
      "Поток Поток-3: число 10\n",
      "Поток Поток-2: число 10\n"
     ]
    }
   ],
   "source": [
    "#Задание 2\n",
    "import threading\n",
    "import time\n",
    "\n",
    "def print_numbers():\n",
    "    for i in range(1, 11):\n",
    "        print(f\"Поток {threading.current_thread().name}: число {i}\")\n",
    "        time.sleep(1)\n",
    "\n",
    "if __name__ == \"__main__\":\n",
    "    threads = []\n",
    "\n",
    "    # Определяем количество потоков\n",
    "    num_threads = 3  # Можно изменить по необходимости\n",
    "\n",
    "    # Создаем и запускаем потоки\n",
    "    for i in range(num_threads):\n",
    "        thread = threading.Thread(target=print_numbers, name=f\"Поток-{i+1}\")\n",
    "        threads.append(thread)\n",
    "        thread.start()\n",
    "\n",
    "    # Ожидаем завершения всех потоков\n",
    "    for thread in threads:\n",
    "        thread.join()"
   ]
  },
  {
   "cell_type": "code",
   "execution_count": null,
   "id": "37c7e912-95e7-4533-b450-c860b610c0c5",
   "metadata": {},
   "outputs": [],
   "source": []
  }
 ],
 "metadata": {
  "kernelspec": {
   "display_name": "Python 3 (ipykernel)",
   "language": "python",
   "name": "python3"
  },
  "language_info": {
   "codemirror_mode": {
    "name": "ipython",
    "version": 3
   },
   "file_extension": ".py",
   "mimetype": "text/x-python",
   "name": "python",
   "nbconvert_exporter": "python",
   "pygments_lexer": "ipython3",
   "version": "3.12.4"
  }
 },
 "nbformat": 4,
 "nbformat_minor": 5
}
