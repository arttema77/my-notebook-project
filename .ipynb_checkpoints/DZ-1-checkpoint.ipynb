{
 "cells": [
  {
   "cell_type": "code",
   "execution_count": 77,
   "id": "5733a9a4-8bee-4b2e-bdcb-bcd36e029a1c",
   "metadata": {},
   "outputs": [
    {
     "name": "stdin",
     "output_type": "stream",
     "text": [
      "Введите первое число:  4\n",
      "Введите второе число:  2\n"
     ]
    },
    {
     "name": "stdout",
     "output_type": "stream",
     "text": [
      "Результат деления: 2.0\n"
     ]
    }
   ],
   "source": [
    "#Задание 1\n",
    "a = float(input(\"Введите первое число: \"))\n",
    "b = float(input(\"Введите второе число: \"))\n",
    "result=a/b\n",
    "if b==0:\n",
    "    print(\"Ошибка деления на 0\")\n",
    "else:\n",
    "    print(f\"Результат деления: {result}\")"
   ]
  },
  {
   "cell_type": "code",
   "execution_count": 79,
   "id": "a7cf894b-e32b-485b-8dcf-17d9315d455b",
   "metadata": {},
   "outputs": [
    {
     "name": "stdin",
     "output_type": "stream",
     "text": [
      "Введите первое число:  5\n",
      "Введите второе число:  0\n"
     ]
    },
    {
     "name": "stdout",
     "output_type": "stream",
     "text": [
      "Ошибка: Деление на ноль недопустимо.\n"
     ]
    }
   ],
   "source": [
    "#Задание 1/2\n",
    "try:\n",
    "    a = float(input(\"Введите первое число: \"))\n",
    "    b = float(input(\"Введите второе число: \"))\n",
    "    result = a / b\n",
    "    print(f\"Результат деления: {result}\")\n",
    "except ZeroDivisionError:\n",
    "    print(\"Ошибка: Деление на ноль недопустимо.\")"
   ]
  },
  {
   "cell_type": "code",
   "execution_count": 81,
   "id": "f6283f63-182f-438c-a086-8ccfd5833a27",
   "metadata": {},
   "outputs": [
    {
     "name": "stdin",
     "output_type": "stream",
     "text": [
      "Введите первое число:  4\n",
      "Введите второе число:  ук\n"
     ]
    },
    {
     "name": "stdout",
     "output_type": "stream",
     "text": [
      "Ошибка: Введено не число.\n"
     ]
    }
   ],
   "source": [
    "#Задание 2\n",
    "try:\n",
    "    a = float(input(\"Введите первое число: \"))\n",
    "    b = float(input(\"Введите второе число: \"))\n",
    "    result = a / b\n",
    "    print(f\"Результат деления: {result}\")\n",
    "except ZeroDivisionError:\n",
    "    print(\"Ошибка: Деление на ноль недопустимо.\")\n",
    "except ValueError:\n",
    "    print(\"Ошибка: Введено не число.\")"
   ]
  },
  {
   "cell_type": "code",
   "execution_count": 87,
   "id": "e5efaf93-68ca-46c5-a024-2976e3bd7751",
   "metadata": {},
   "outputs": [
    {
     "name": "stdin",
     "output_type": "stream",
     "text": [
      "Введите целые числа через пробел:  3 33 3333\n"
     ]
    },
    {
     "name": "stdout",
     "output_type": "stream",
     "text": [
      "Сумма чисел: 3369\n"
     ]
    }
   ],
   "source": [
    "#Задание 3\n",
    "class EvenNumberException(Exception):\n",
    "    \"\"\"Исключение для случая наличия чётного числа в списке.\"\"\"\n",
    "    pass\n",
    "\n",
    "class NegativeNumberException(Exception):\n",
    "    \"\"\"Исключение для случая наличия отрицательного числа в списке.\"\"\"\n",
    "    pass\n",
    "\n",
    "def calculate_sum(numbers):\n",
    "    for num in numbers:\n",
    "        if num % 2 == 0:\n",
    "            raise EvenNumberException(\"Ошибка: В списке есть чётное число.\")\n",
    "        if num < 0:\n",
    "            raise NegativeNumberException(\"Ошибка: В списке есть отрицательное число.\")\n",
    "    return sum(numbers)\n",
    "\n",
    "try:\n",
    "    numbers = list(map(int, input(\"Введите целые числа через пробел: \").split()))\n",
    "    result = calculate_sum(numbers)\n",
    "    print(f\"Сумма чисел: {result}\")\n",
    "except EvenNumberException as e:\n",
    "    print(e)\n",
    "except NegativeNumberException as e:\n",
    "    print(e)\n"
   ]
  },
  {
   "cell_type": "code",
   "execution_count": 93,
   "id": "824d07ca-3868-44a3-b895-07a76071b6ab",
   "metadata": {},
   "outputs": [
    {
     "name": "stdin",
     "output_type": "stream",
     "text": [
      "Введите индекс элемента:  1\n"
     ]
    },
    {
     "name": "stdout",
     "output_type": "stream",
     "text": [
      "Элемент с индексом 1: 20\n"
     ]
    }
   ],
   "source": [
    "#Задание 4\n",
    "try:\n",
    "    elements = [10, 20, 30, 40, 50]  # Пример списка\n",
    "    index = int(input(\"Введите индекс элемента: \"))\n",
    "    print(f\"Элемент с индексом {index}: {elements[index]}\")\n",
    "except IndexError:\n",
    "    print(\"Ошибка: Индекс выходит за пределы списка.\")\n",
    "except ValueError:\n",
    "    print(\"Ошибка: Введено не число.\")"
   ]
  },
  {
   "cell_type": "code",
   "execution_count": 99,
   "id": "056f1e49-5502-4604-ae19-a3a4a33c51cb",
   "metadata": {},
   "outputs": [
    {
     "name": "stdin",
     "output_type": "stream",
     "text": [
      "Введите число с плавающей точкой:  true\n"
     ]
    },
    {
     "name": "stdout",
     "output_type": "stream",
     "text": [
      "Ошибка: Невозможно преобразовать введённую строку в число.\n"
     ]
    }
   ],
   "source": [
    "#Задание 5\n",
    "try:\n",
    "    user_input = input(\"Введите число с плавающей точкой: \")\n",
    "    number = float(user_input)\n",
    "    print(f\"Преобразованное число: {number}\")\n",
    "except ValueError:\n",
    "    print(\"Ошибка: Невозможно преобразовать введённую строку в число.\")"
   ]
  },
  {
   "cell_type": "code",
   "execution_count": 101,
   "id": "c9746ae2-7f9b-4eee-b62a-0698120f2be2",
   "metadata": {},
   "outputs": [
    {
     "name": "stdin",
     "output_type": "stream",
     "text": [
      "Введите число для извлечения квадратного корня:  4345\n"
     ]
    },
    {
     "name": "stdout",
     "output_type": "stream",
     "text": [
      "Квадратный корень из 4345.0: 65.91661399070799\n"
     ]
    }
   ],
   "source": [
    "#Задание 6\n",
    "try:\n",
    "    import math\n",
    "    number = float(input(\"Введите число для извлечения квадратного корня: \"))\n",
    "    if number < 0:\n",
    "        raise ValueError(\"Ошибка: Невозможно извлечь квадратный корень из отрицательного числа.\")\n",
    "    result = math.sqrt(number)\n",
    "    print(f\"Квадратный корень из {number}: {result}\")\n",
    "except ImportError:\n",
    "    print(\"Ошибка: Модуль math не может быть импортирован.\")\n",
    "except ValueError as e:\n",
    "    print(e)"
   ]
  },
  {
   "cell_type": "code",
   "execution_count": null,
   "id": "9032fb03-1c40-4a7e-b8af-c3353b733bbd",
   "metadata": {},
   "outputs": [],
   "source": []
  }
 ],
 "metadata": {
  "kernelspec": {
   "display_name": "Python 3 (ipykernel)",
   "language": "python",
   "name": "python3"
  },
  "language_info": {
   "codemirror_mode": {
    "name": "ipython",
    "version": 3
   },
   "file_extension": ".py",
   "mimetype": "text/x-python",
   "name": "python",
   "nbconvert_exporter": "python",
   "pygments_lexer": "ipython3",
   "version": "3.12.4"
  }
 },
 "nbformat": 4,
 "nbformat_minor": 5
}
