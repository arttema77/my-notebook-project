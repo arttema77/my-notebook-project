{
 "cells": [
  {
   "cell_type": "code",
   "execution_count": 1,
   "id": "3faa4f49-5c2d-4fe1-91c2-8bf9fb82e35b",
   "metadata": {},
   "outputs": [
    {
     "name": "stdout",
     "output_type": "stream",
     "text": [
      "Квадрат числа 1: 1\n",
      "Квадрат числа 2: 4\n",
      "Квадрат числа 3: 9\n",
      "Квадрат числа 4: 16\n",
      "Квадрат числа 5: 25\n",
      "Квадрат числа 6: 36\n",
      "Квадрат числа 7: 49\n",
      "Квадрат числа 8: 64\n",
      "Квадрат числа 9: 81\n",
      "Квадрат числа 10: 100\n",
      "Куб числа 1: 1\n",
      "Куб числа 2: 8\n",
      "Куб числа 3: 27\n",
      "Куб числа 4: 64\n",
      "Куб числа 5: 125\n",
      "Куб числа 6: 216\n",
      "Куб числа 7: 343\n",
      "Куб числа 8: 512\n",
      "Куб числа 9: 729\n",
      "Куб числа 10: 1000\n"
     ]
    }
   ],
   "source": [
    "#Задание1\n",
    "import threading\n",
    "def calculate_squares():\n",
    "    for i in range(1, 11):\n",
    "        print(f\"Квадрат числа {i}: {i ** 2}\")\n",
    "\n",
    "def calculate_cubes():\n",
    "    for i in range(1, 11):\n",
    "        print(f\"Куб числа {i}: {i ** 3}\")\n",
    "\n",
    "if __name__ == \"__main__\":\n",
    "    # Создаем потоки\n",
    "    thread_squares = threading.Thread(target=calculate_squares)\n",
    "    thread_cubes = threading.Thread(target=calculate_cubes)\n",
    "\n",
    "    # Запускаем потоки\n",
    "    thread_squares.start()\n",
    "    thread_cubes.start()\n",
    "\n",
    "    # Ожидаем завершения потоков\n",
    "    thread_squares.join()\n",
    "    thread_cubes.join()"
   ]
  },
  {
   "cell_type": "code",
   "execution_count": null,
   "id": "bec8f662-5dcb-4410-9103-af131c285766",
   "metadata": {},
   "outputs": [],
   "source": []
  }
 ],
 "metadata": {
  "kernelspec": {
   "display_name": "Python 3 (ipykernel)",
   "language": "python",
   "name": "python3"
  },
  "language_info": {
   "codemirror_mode": {
    "name": "ipython",
    "version": 3
   },
   "file_extension": ".py",
   "mimetype": "text/x-python",
   "name": "python",
   "nbconvert_exporter": "python",
   "pygments_lexer": "ipython3",
   "version": "3.12.4"
  }
 },
 "nbformat": 4,
 "nbformat_minor": 5
}
