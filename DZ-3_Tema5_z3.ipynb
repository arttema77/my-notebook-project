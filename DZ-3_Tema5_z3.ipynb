{
 "cells": [
  {
   "cell_type": "code",
   "execution_count": 1,
   "id": "5374a4d2-3b2c-4b9c-a528-8ddb9b7b0ec7",
   "metadata": {},
   "outputs": [
    {
     "name": "stdout",
     "output_type": "stream",
     "text": [
      "Квадрат числа 1 равен 1\n",
      "Квадрат числа 3 равен 9\n",
      "Квадрат числа 7 равен 49\n",
      "Квадрат числа 10 равен 100\n",
      "Квадрат числа 9 равен 81\n",
      "Квадрат числа 6 равен 36\n",
      "Квадрат числа 8 равен 64\n",
      "Квадрат числа 5 равен 25\n",
      "Квадрат числа 2 равен 4\n",
      "Квадрат числа 4 равен 16\n"
     ]
    }
   ],
   "source": [
    "#Задание 3\n",
    "import asyncio\n",
    "\n",
    "async def compute_square(number):\n",
    "    await asyncio.sleep(1)\n",
    "    result = number ** 2\n",
    "    print(f\"Квадрат числа {number} равен {result}\")\n",
    "\n",
    "async def main():\n",
    "    numbers = range(1, 11)\n",
    "    tasks = [compute_square(number) for number in numbers]\n",
    "    await asyncio.gather(*tasks)\n",
    "\n",
    "await main()"
   ]
  },
  {
   "cell_type": "code",
   "execution_count": null,
   "id": "ba0dd6d8-0b04-49a5-8485-10692d95b9ff",
   "metadata": {},
   "outputs": [],
   "source": []
  }
 ],
 "metadata": {
  "kernelspec": {
   "display_name": "Python 3 (ipykernel)",
   "language": "python",
   "name": "python3"
  },
  "language_info": {
   "codemirror_mode": {
    "name": "ipython",
    "version": 3
   },
   "file_extension": ".py",
   "mimetype": "text/x-python",
   "name": "python",
   "nbconvert_exporter": "python",
   "pygments_lexer": "ipython3",
   "version": "3.12.4"
  }
 },
 "nbformat": 4,
 "nbformat_minor": 5
}
