{
 "cells": [
  {
   "cell_type": "code",
   "execution_count": 3,
   "id": "a3bd40e0-fe18-4796-b09f-21df43abee41",
   "metadata": {},
   "outputs": [
    {
     "name": "stdout",
     "output_type": "stream",
     "text": [
      "Решение найдено!\n",
      "\n",
      "Оптимальный план перевозок:\n",
      "[[ 50.   0.   0.  50.]\n",
      " [  0. 100.  75.  25.]]\n",
      "\n",
      "Минимальная стоимость перевозок: 1175.0\n"
     ]
    }
   ],
   "source": [
    "import numpy as np\n",
    "from scipy.optimize import linprog\n",
    "\n",
    "# Данные задачи\n",
    "supply = [100, 200]  # Запасы на складах C1 и C2\n",
    "demand = [50, 100, 75, 75]  # Потребности магазинов M1, M2, M3, M4\n",
    "costs = [\n",
    "    [4, 3, 5, 6],  # Стоимость перевозки из C1\n",
    "    [8, 2, 4, 7]   # Стоимость перевозки из C2\n",
    "]\n",
    "\n",
    "# Разворачиваем таблицу в вектор\n",
    "costs_flatten = np.array(costs).flatten()\n",
    "\n",
    "# Матрица условий для ограничений\n",
    "num_sources = len(supply)\n",
    "num_destinations = len(demand)\n",
    "\n",
    "# Ограничения по запасам (строки)\n",
    "supply_constraints = np.zeros((num_sources, num_sources * num_destinations))\n",
    "for i in range(num_sources):\n",
    "    for j in range(num_destinations):\n",
    "        supply_constraints[i][i * num_destinations + j] = 1\n",
    "\n",
    "# Ограничения по потребностям (столбцы)\n",
    "demand_constraints = np.zeros((num_destinations, num_sources * num_destinations))\n",
    "for j in range(num_destinations):\n",
    "    for i in range(num_sources):\n",
    "        demand_constraints[j][i * num_destinations + j] = 1\n",
    "\n",
    "# Собираем все ограничения\n",
    "A_eq = np.vstack([supply_constraints, demand_constraints])\n",
    "b_eq = supply + demand\n",
    "\n",
    "# Решаем задачу с помощью линейного программирования\n",
    "result = linprog(c=costs_flatten, A_eq=A_eq, b_eq=b_eq, bounds=(0, None), method='highs')\n",
    "\n",
    "# Вывод результатов\n",
    "if result.success:\n",
    "    print(\"Решение найдено!\\n\")\n",
    "    allocation = result.x.reshape((num_sources, num_destinations))\n",
    "    print(\"Оптимальный план перевозок:\")\n",
    "    print(allocation)\n",
    "    print(f\"\\nМинимальная стоимость перевозок: {result.fun}\")\n",
    "else:\n",
    "    print(\"Решение не найдено.\")\n"
   ]
  },
  {
   "cell_type": "code",
   "execution_count": null,
   "id": "427c7b36-47ab-4692-a18d-dfd417edfd96",
   "metadata": {},
   "outputs": [],
   "source": []
  }
 ],
 "metadata": {
  "kernelspec": {
   "display_name": "Python 3 (ipykernel)",
   "language": "python",
   "name": "python3"
  },
  "language_info": {
   "codemirror_mode": {
    "name": "ipython",
    "version": 3
   },
   "file_extension": ".py",
   "mimetype": "text/x-python",
   "name": "python",
   "nbconvert_exporter": "python",
   "pygments_lexer": "ipython3",
   "version": "3.12.4"
  }
 },
 "nbformat": 4,
 "nbformat_minor": 5
}
