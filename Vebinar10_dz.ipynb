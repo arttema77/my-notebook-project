{
 "cells": [
  {
   "cell_type": "code",
   "execution_count": 5,
   "id": "759b8357-a42e-4fc8-9890-edca7ab14702",
   "metadata": {},
   "outputs": [
    {
     "name": "stdout",
     "output_type": "stream",
     "text": [
      "Введите значения X через пробел:\n"
     ]
    },
    {
     "name": "stdin",
     "output_type": "stream",
     "text": [
      " 2 3 5\n"
     ]
    },
    {
     "name": "stdout",
     "output_type": "stream",
     "text": [
      "Введите соответствующие вероятности P(X) через пробел:\n"
     ]
    },
    {
     "name": "stdin",
     "output_type": "stream",
     "text": [
      " 0.1 0.6 0.3\n"
     ]
    },
    {
     "name": "stdout",
     "output_type": "stream",
     "text": [
      "Математическое ожидание (M[X]): 3.5\n",
      "Дисперсия (D[X]): 1.0499999999999998\n"
     ]
    }
   ],
   "source": [
    "def calculate_expectation_and_variance(x_values, probabilities):\n",
    "    \"\"\"\n",
    "    Функция для вычисления математического ожидания и дисперсии\n",
    "    :param x_values: список значений X\n",
    "    :param probabilities: список вероятностей P(X)\n",
    "    :return: матожидание, дисперсия\n",
    "    \"\"\"\n",
    "    # Вычисляем математическое ожидание\n",
    "    expected_value = sum(x * p for x, p in zip(x_values, probabilities))\n",
    "    \n",
    "    # Вычисляем дисперсию\n",
    "    variance = sum(((x - expected_value) ** 2) * p for x, p in zip(x_values, probabilities))\n",
    "    \n",
    "    return expected_value, variance\n",
    "\n",
    "\n",
    "def main():\n",
    "    # Запрашиваем ввод данных\n",
    "    print(\"Введите значения X через пробел:\")\n",
    "    x_values = list(map(float, input().split()))\n",
    "    \n",
    "    print(\"Введите соответствующие вероятности P(X) через пробел:\")\n",
    "    probabilities = list(map(float, input().split()))\n",
    "    \n",
    "    # Проверяем, что сумма вероятностей равна 1\n",
    "    if not abs(sum(probabilities) - 1.0) < 1e-6:\n",
    "        print(\"Ошибка: сумма вероятностей должна быть равна 1.\")\n",
    "        return\n",
    "    \n",
    "    # Вычисляем матожидание и дисперсию\n",
    "    expected_value, variance = calculate_expectation_and_variance(x_values, probabilities)\n",
    "    \n",
    "    # Выводим результаты\n",
    "    print(f\"Математическое ожидание (M[X]): {expected_value}\")\n",
    "    print(f\"Дисперсия (D[X]): {variance}\")\n",
    "\n",
    "\n",
    "if __name__ == \"__main__\":\n",
    "    main()\n"
   ]
  },
  {
   "cell_type": "code",
   "execution_count": null,
   "id": "8a17fe05-84a3-4db3-80b7-664f3b56b3d2",
   "metadata": {},
   "outputs": [],
   "source": []
  }
 ],
 "metadata": {
  "kernelspec": {
   "display_name": "Python 3 (ipykernel)",
   "language": "python",
   "name": "python3"
  },
  "language_info": {
   "codemirror_mode": {
    "name": "ipython",
    "version": 3
   },
   "file_extension": ".py",
   "mimetype": "text/x-python",
   "name": "python",
   "nbconvert_exporter": "python",
   "pygments_lexer": "ipython3",
   "version": "3.12.4"
  }
 },
 "nbformat": 4,
 "nbformat_minor": 5
}
