{
 "cells": [
  {
   "cell_type": "code",
   "execution_count": 2,
   "id": "559f1bb7-2bd9-45f6-adf4-339a47620604",
   "metadata": {},
   "outputs": [
    {
     "name": "stdout",
     "output_type": "stream",
     "text": [
      "Post 1:\n",
      "Title: sunt aut facere repellat provident occaecati excepturi optio reprehenderit\n",
      "Body: quia et suscipit\n",
      "suscipit recusandae consequuntur expedita et cum\n",
      "reprehenderit molestiae ut ut quas totam\n",
      "nostrum rerum est autem sunt rem eveniet architecto\n",
      "\n",
      "Post 2:\n",
      "Title: qui est esse\n",
      "Body: est rerum tempore vitae\n",
      "sequi sint nihil reprehenderit dolor beatae ea dolores neque\n",
      "fugiat blanditiis voluptate porro vel nihil molestiae ut reiciendis\n",
      "qui aperiam non debitis possimus qui neque nisi nulla\n",
      "\n",
      "Post 3:\n",
      "Title: ea molestias quasi exercitationem repellat qui ipsa sit aut\n",
      "Body: et iusto sed quo iure\n",
      "voluptatem occaecati omnis eligendi aut ad\n",
      "voluptatem doloribus vel accusantium quis pariatur\n",
      "molestiae porro eius odio et labore et velit aut\n",
      "\n",
      "Post 4:\n",
      "Title: eum et est occaecati\n",
      "Body: ullam et saepe reiciendis voluptatem adipisci\n",
      "sit amet autem assumenda provident rerum culpa\n",
      "quis hic commodi nesciunt rem tenetur doloremque ipsam iure\n",
      "quis sunt voluptatem rerum illo velit\n",
      "\n",
      "Post 5:\n",
      "Title: nesciunt quas odio\n",
      "Body: repudiandae veniam quaerat sunt sed\n",
      "alias aut fugiat sit autem sed est\n",
      "voluptatem omnis possimus esse voluptatibus quis\n",
      "est aut tenetur dolor neque\n",
      "\n"
     ]
    }
   ],
   "source": [
    "#Задание1\n",
    "import requests\n",
    "\n",
    "# URL для отправки GET-запроса\n",
    "url = \"https://jsonplaceholder.typicode.com/posts\"\n",
    "\n",
    "# Отправка GET-запроса\n",
    "response = requests.get(url)\n",
    "\n",
    "# Проверка успешности запроса\n",
    "if response.status_code == 200:\n",
    "    # Извлечение данных в формате JSON\n",
    "    posts = response.json()\n",
    "\n",
    "    # Вывод заголовков и тел первых 5 постов\n",
    "    for i in range(5):\n",
    "        print(f\"Post {i + 1}:\")\n",
    "        print(f\"Title: {posts[i]['title']}\")\n",
    "        print(f\"Body: {posts[i]['body']}\\n\")\n",
    "else:\n",
    "    print(f\"Ошибка при получении данных: {response.status_code}\")\n"
   ]
  },
  {
   "cell_type": "code",
   "execution_count": 4,
   "id": "c1051299-e9b5-40b1-83bf-752af70050a4",
   "metadata": {},
   "outputs": [
    {
     "name": "stdin",
     "output_type": "stream",
     "text": [
      "Введите название города:  Москва\n"
     ]
    },
    {
     "name": "stdout",
     "output_type": "stream",
     "text": [
      "Ошибка: 401. Проверьте название города или API-ключ.\n"
     ]
    }
   ],
   "source": [
    "#Задание 2\n",
    "import requests\n",
    "\n",
    "def get_weather(city_name, api_key):\n",
    "    # URL для запроса к OpenWeatherMap с использованием API-ключа и параметра города\n",
    "    base_url = \"http://api.openweathermap.org/data/2.5/weather\"\n",
    "    params = {\n",
    "        'q': city_name,\n",
    "        'appid': api_key,\n",
    "        'units': 'metric',  # Используем метрики для получения температуры в градусах Цельсия\n",
    "        'lang': 'ru'  # Язык ответа — русский\n",
    "    }\n",
    "    \n",
    "    # Отправка GET-запроса\n",
    "    response = requests.get(base_url, params=params)\n",
    "    \n",
    "    if response.status_code == 200:\n",
    "        data = response.json()\n",
    "        temperature = data['main']['temp']\n",
    "        weather_description = data['weather'][0]['description']\n",
    "        print(f\"Текущая температура в городе {city_name}: {temperature}°C\")\n",
    "        print(f\"Описание погоды: {weather_description}\")\n",
    "    else:\n",
    "        print(f\"Ошибка: {response.status_code}. Проверьте название города или API-ключ.\")\n",
    "\n",
    "# Запрос ввода от пользователя\n",
    "city = input(\"Введите название города: \")\n",
    "api_key = \"ВАШ_API_КЛЮЧ\"  # тут нужен API-ключ полученный после регистрации\n",
    "\n",
    "# Вызов функции\n",
    "get_weather(city, api_key)\n"
   ]
  },
  {
   "cell_type": "code",
   "execution_count": 6,
   "id": "c2ba980d-1d7b-463d-945b-5b8052cb107b",
   "metadata": {},
   "outputs": [
    {
     "name": "stdout",
     "output_type": "stream",
     "text": [
      "ID созданного поста: 101\n",
      "Содержимое поста:\n",
      "Title: My New Post\n",
      "Body: This is the body of the new post.\n"
     ]
    }
   ],
   "source": [
    "#Задание 3\n",
    "import requests\n",
    "\n",
    "def create_post():\n",
    "    # URL для отправки POST-запроса\n",
    "    url = \"https://jsonplaceholder.typicode.com/posts\"\n",
    "    \n",
    "    # Данные для нового поста\n",
    "    post_data = {\n",
    "        'title': 'My New Post',\n",
    "        'body': 'This is the body of the new post.',\n",
    "        'userId': 1\n",
    "    }\n",
    "    \n",
    "    # Отправка POST-запроса\n",
    "    response = requests.post(url, json=post_data)\n",
    "    \n",
    "    if response.status_code == 201:  # Код 201 означает успешное создание ресурса\n",
    "        created_post = response.json()\n",
    "        print(f\"ID созданного поста: {created_post['id']}\")\n",
    "        print(\"Содержимое поста:\")\n",
    "        print(f\"Title: {created_post['title']}\")\n",
    "        print(f\"Body: {created_post['body']}\")\n",
    "    else:\n",
    "        print(f\"Ошибка при создании поста: {response.status_code}\")\n",
    "\n",
    "# Вызов функции\n",
    "create_post()\n"
   ]
  },
  {
   "cell_type": "code",
   "execution_count": 8,
   "id": "31107b8f-86b8-414f-bd7f-83a9f45e120c",
   "metadata": {},
   "outputs": [
    {
     "name": "stdout",
     "output_type": "stream",
     "text": [
      "ID созданного поста: 101\n",
      "Содержимое поста:\n",
      "Title: My New Post\n",
      "Body: This is the body of the new post.\n"
     ]
    }
   ],
   "source": [
    "#Задание 4\n",
    "import requests\n",
    "\n",
    "def create_post():\n",
    "    # URL для отправки POST-запроса\n",
    "    url = \"https://jsonplaceholder.typicode.com/posts\"\n",
    "    \n",
    "    # Данные для нового поста\n",
    "    post_data = {\n",
    "        'title': 'My New Post',\n",
    "        'body': 'This is the body of the new post.',\n",
    "        'userId': 1\n",
    "    }\n",
    "    \n",
    "    try:\n",
    "        # Отправка POST-запроса\n",
    "        response = requests.post(url, json=post_data)\n",
    "        \n",
    "        # Обработка различных кодов состояния\n",
    "        if response.status_code == 201:  # Код 201 означает успешное создание ресурса\n",
    "            created_post = response.json()\n",
    "            print(f\"ID созданного поста: {created_post['id']}\")\n",
    "            print(\"Содержимое поста:\")\n",
    "            print(f\"Title: {created_post['title']}\")\n",
    "            print(f\"Body: {created_post['body']}\")\n",
    "        elif response.status_code == 400:\n",
    "            print(\"Ошибка 400: Некорректный запрос. Проверьте данные, отправленные в запросе.\")\n",
    "        elif response.status_code == 404:\n",
    "            print(\"Ошибка 404: Ресурс не найден. Проверьте URL.\")\n",
    "        elif response.status_code == 500:\n",
    "            print(\"Ошибка 500: Внутренняя ошибка сервера.\")\n",
    "        else:\n",
    "            print(f\"Ошибка: код состояния {response.status_code}. Проверьте запрос.\")\n",
    "    \n",
    "    except requests.exceptions.RequestException as e:\n",
    "        print(f\"Произошла ошибка при выполнении запроса: {e}\")\n",
    "\n",
    "# Вызов функции\n",
    "create_post()\n"
   ]
  },
  {
   "cell_type": "code",
   "execution_count": null,
   "id": "7df867f2-276f-48ea-9477-6b82e2c4fb91",
   "metadata": {},
   "outputs": [],
   "source": []
  }
 ],
 "metadata": {
  "kernelspec": {
   "display_name": "Python 3 (ipykernel)",
   "language": "python",
   "name": "python3"
  },
  "language_info": {
   "codemirror_mode": {
    "name": "ipython",
    "version": 3
   },
   "file_extension": ".py",
   "mimetype": "text/x-python",
   "name": "python",
   "nbconvert_exporter": "python",
   "pygments_lexer": "ipython3",
   "version": "3.12.4"
  }
 },
 "nbformat": 4,
 "nbformat_minor": 5
}
